{
 "cells": [
  {
   "cell_type": "code",
   "execution_count": 3,
   "metadata": {},
   "outputs": [],
   "source": [
    "#from pyspark.sql.types import *\n",
    "#from pyspark.sql.types import sqlContext"
   ]
  },
  {
   "cell_type": "code",
   "execution_count": 4,
   "metadata": {},
   "outputs": [],
   "source": [
    "import pandas as pd\n",
    "import time\n",
    "import glob\n",
    "import os"
   ]
  },
  {
   "cell_type": "code",
   "execution_count": 5,
   "metadata": {},
   "outputs": [],
   "source": [
    "# Optimize the convertion of pandas and spark dataframes\n",
    "#spark.conf.set(\"spark.sql.execution.arrow.enabled\", \"true\")\n",
    "#spark.conf.set(\"spark.sql.execution.arrow.maxRecordsPerBatch\", 1000)"
   ]
  },
  {
   "cell_type": "code",
   "execution_count": 6,
   "metadata": {},
   "outputs": [],
   "source": [
    "#sdf = sqlContext.read.parquet(\"redirect.parquet\")"
   ]
  },
  {
   "cell_type": "code",
   "execution_count": 7,
   "metadata": {},
   "outputs": [
    {
     "name": "stdout",
     "output_type": "stream",
     "text": [
      "redirect loaded\n"
     ]
    }
   ],
   "source": [
    "redirect_df = pd.read_pickle('/home/benjamin/wikipedia/Wikipedia/redirect_parsed0.gz')\n",
    "print('redirect loaded')"
   ]
  },
  {
   "cell_type": "code",
   "execution_count": 9,
   "metadata": {},
   "outputs": [],
   "source": [
    "redirect_df.to_parquet('redirect.parquet')"
   ]
  },
  {
   "cell_type": "code",
   "execution_count": 8,
   "metadata": {},
   "outputs": [
    {
     "name": "stdout",
     "output_type": "stream",
     "text": [
      "pageid loaded\n"
     ]
    }
   ],
   "source": [
    "pageid_df = pd.read_pickle('/home/benjamin/wikipedia/Wikipedia/pageid_parsed0.gz')\n",
    "print('pageid loaded')"
   ]
  },
  {
   "cell_type": "code",
   "execution_count": 9,
   "metadata": {},
   "outputs": [],
   "source": [
    "pageid_df.to_parquet(\"pageid.parquet\")"
   ]
  },
  {
   "cell_type": "code",
   "execution_count": 10,
   "metadata": {},
   "outputs": [
    {
     "name": "stdout",
     "output_type": "stream",
     "text": [
      "pagelinks loaded: pagelinks_parsed4.gz\n",
      "Saved  pagelinks_parsed4.parquet\n",
      "pagelinks loaded: pagelinks_parsed1.gz\n",
      "Saved  pagelinks_parsed1.parquet\n",
      "pagelinks loaded: pagelinks_parsed5.gz\n",
      "Saved  pagelinks_parsed5.parquet\n",
      "pagelinks loaded: pagelinks_parsed0.gz\n",
      "Saved  pagelinks_parsed0.parquet\n",
      "pagelinks loaded: pagelinks_parsed2.gz\n",
      "Saved  pagelinks_parsed2.parquet\n",
      "pagelinks loaded: pagelinks_parsed3.gz\n",
      "Saved  pagelinks_parsed3.parquet\n",
      "pagelinks loaded: pagelinks_parsed6.gz\n",
      "Saved  pagelinks_parsed6.parquet\n"
     ]
    }
   ],
   "source": [
    "for file in glob.glob('/home/benjamin/wikipedia/Wikipedia/pagelinks_parsed*.gz'):\n",
    "    folder,filename = os.path.split(file)\n",
    "    pagelinks_df = pd.read_pickle(file)\n",
    "    print('pagelinks loaded:',filename)\n",
    "    parquetname =filename[:-2] + 'parquet'\n",
    "    pagelinks_df.to_parquet(os.path.join(folder,parquetname))\n",
    "    print('Saved ',parquetname)"
   ]
  },
  {
   "cell_type": "code",
   "execution_count": null,
   "metadata": {},
   "outputs": [],
   "source": []
  }
 ],
 "metadata": {
  "kernelspec": {
   "display_name": "Python 3",
   "language": "python",
   "name": "python3"
  },
  "language_info": {
   "codemirror_mode": {
    "name": "ipython",
    "version": 3
   },
   "file_extension": ".py",
   "mimetype": "text/x-python",
   "name": "python",
   "nbconvert_exporter": "python",
   "pygments_lexer": "ipython3",
   "version": "3.6.5"
  }
 },
 "nbformat": 4,
 "nbformat_minor": 2
}
